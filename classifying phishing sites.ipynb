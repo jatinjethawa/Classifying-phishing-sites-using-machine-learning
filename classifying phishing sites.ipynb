{
 "cells": [
  {
   "cell_type": "code",
   "execution_count": 1,
   "metadata": {},
   "outputs": [],
   "source": [
    "from scipy.io import arff"
   ]
  },
  {
   "cell_type": "code",
   "execution_count": 27,
   "metadata": {},
   "outputs": [],
   "source": [
    "#importing the libraries\n",
    "import pandas as pd\n",
    "import numpy as np"
   ]
  },
  {
   "cell_type": "code",
   "execution_count": 3,
   "metadata": {},
   "outputs": [],
   "source": [
    "#importing matplotlib libaray\n",
    "import matplotlib.pyplot as plt"
   ]
  },
  {
   "cell_type": "code",
   "execution_count": 4,
   "metadata": {},
   "outputs": [],
   "source": [
    "#Loading the data\n",
    "df=pd.read_csv('J:\\\\cardiff_met\\\\dissertation\\\\5.urldata.csv')"
   ]
  },
  {
   "cell_type": "code",
   "execution_count": 5,
   "metadata": {},
   "outputs": [
    {
     "data": {
      "text/html": [
       "<div>\n",
       "<style scoped>\n",
       "    .dataframe tbody tr th:only-of-type {\n",
       "        vertical-align: middle;\n",
       "    }\n",
       "\n",
       "    .dataframe tbody tr th {\n",
       "        vertical-align: top;\n",
       "    }\n",
       "\n",
       "    .dataframe thead th {\n",
       "        text-align: right;\n",
       "    }\n",
       "</style>\n",
       "<table border=\"1\" class=\"dataframe\">\n",
       "  <thead>\n",
       "    <tr style=\"text-align: right;\">\n",
       "      <th></th>\n",
       "      <th>Domain</th>\n",
       "      <th>Have_IP</th>\n",
       "      <th>Have_At</th>\n",
       "      <th>URL_Length</th>\n",
       "      <th>URL_Depth</th>\n",
       "      <th>Redirection</th>\n",
       "      <th>https_Domain</th>\n",
       "      <th>TinyURL</th>\n",
       "      <th>Prefix/Suffix</th>\n",
       "      <th>DNS_Record</th>\n",
       "      <th>Web_Traffic</th>\n",
       "      <th>Domain_Age</th>\n",
       "      <th>Domain_End</th>\n",
       "      <th>iFrame</th>\n",
       "      <th>Mouse_Over</th>\n",
       "      <th>Right_Click</th>\n",
       "      <th>Web_Forwards</th>\n",
       "      <th>Label</th>\n",
       "    </tr>\n",
       "  </thead>\n",
       "  <tbody>\n",
       "    <tr>\n",
       "      <th>0</th>\n",
       "      <td>graphicriver.net</td>\n",
       "      <td>0</td>\n",
       "      <td>0</td>\n",
       "      <td>1</td>\n",
       "      <td>1</td>\n",
       "      <td>0</td>\n",
       "      <td>0</td>\n",
       "      <td>0</td>\n",
       "      <td>0</td>\n",
       "      <td>0</td>\n",
       "      <td>1</td>\n",
       "      <td>1</td>\n",
       "      <td>1</td>\n",
       "      <td>0</td>\n",
       "      <td>0</td>\n",
       "      <td>1</td>\n",
       "      <td>0</td>\n",
       "      <td>0</td>\n",
       "    </tr>\n",
       "    <tr>\n",
       "      <th>1</th>\n",
       "      <td>ecnavi.jp</td>\n",
       "      <td>0</td>\n",
       "      <td>0</td>\n",
       "      <td>1</td>\n",
       "      <td>1</td>\n",
       "      <td>1</td>\n",
       "      <td>0</td>\n",
       "      <td>0</td>\n",
       "      <td>0</td>\n",
       "      <td>0</td>\n",
       "      <td>1</td>\n",
       "      <td>1</td>\n",
       "      <td>1</td>\n",
       "      <td>0</td>\n",
       "      <td>0</td>\n",
       "      <td>1</td>\n",
       "      <td>0</td>\n",
       "      <td>0</td>\n",
       "    </tr>\n",
       "    <tr>\n",
       "      <th>2</th>\n",
       "      <td>hubpages.com</td>\n",
       "      <td>0</td>\n",
       "      <td>0</td>\n",
       "      <td>1</td>\n",
       "      <td>1</td>\n",
       "      <td>0</td>\n",
       "      <td>0</td>\n",
       "      <td>0</td>\n",
       "      <td>0</td>\n",
       "      <td>0</td>\n",
       "      <td>1</td>\n",
       "      <td>0</td>\n",
       "      <td>1</td>\n",
       "      <td>0</td>\n",
       "      <td>0</td>\n",
       "      <td>1</td>\n",
       "      <td>0</td>\n",
       "      <td>0</td>\n",
       "    </tr>\n",
       "    <tr>\n",
       "      <th>3</th>\n",
       "      <td>extratorrent.cc</td>\n",
       "      <td>0</td>\n",
       "      <td>0</td>\n",
       "      <td>1</td>\n",
       "      <td>3</td>\n",
       "      <td>0</td>\n",
       "      <td>0</td>\n",
       "      <td>0</td>\n",
       "      <td>0</td>\n",
       "      <td>0</td>\n",
       "      <td>1</td>\n",
       "      <td>0</td>\n",
       "      <td>1</td>\n",
       "      <td>0</td>\n",
       "      <td>0</td>\n",
       "      <td>1</td>\n",
       "      <td>0</td>\n",
       "      <td>0</td>\n",
       "    </tr>\n",
       "    <tr>\n",
       "      <th>4</th>\n",
       "      <td>icicibank.com</td>\n",
       "      <td>0</td>\n",
       "      <td>0</td>\n",
       "      <td>1</td>\n",
       "      <td>3</td>\n",
       "      <td>0</td>\n",
       "      <td>0</td>\n",
       "      <td>0</td>\n",
       "      <td>0</td>\n",
       "      <td>0</td>\n",
       "      <td>1</td>\n",
       "      <td>0</td>\n",
       "      <td>1</td>\n",
       "      <td>0</td>\n",
       "      <td>0</td>\n",
       "      <td>1</td>\n",
       "      <td>0</td>\n",
       "      <td>0</td>\n",
       "    </tr>\n",
       "  </tbody>\n",
       "</table>\n",
       "</div>"
      ],
      "text/plain": [
       "             Domain  Have_IP  Have_At  URL_Length  URL_Depth  Redirection  \\\n",
       "0  graphicriver.net        0        0           1          1            0   \n",
       "1         ecnavi.jp        0        0           1          1            1   \n",
       "2      hubpages.com        0        0           1          1            0   \n",
       "3   extratorrent.cc        0        0           1          3            0   \n",
       "4     icicibank.com        0        0           1          3            0   \n",
       "\n",
       "   https_Domain  TinyURL  Prefix/Suffix  DNS_Record  Web_Traffic  Domain_Age  \\\n",
       "0             0        0              0           0            1           1   \n",
       "1             0        0              0           0            1           1   \n",
       "2             0        0              0           0            1           0   \n",
       "3             0        0              0           0            1           0   \n",
       "4             0        0              0           0            1           0   \n",
       "\n",
       "   Domain_End  iFrame  Mouse_Over  Right_Click  Web_Forwards  Label  \n",
       "0           1       0           0            1             0      0  \n",
       "1           1       0           0            1             0      0  \n",
       "2           1       0           0            1             0      0  \n",
       "3           1       0           0            1             0      0  \n",
       "4           1       0           0            1             0      0  "
      ]
     },
     "execution_count": 5,
     "metadata": {},
     "output_type": "execute_result"
    }
   ],
   "source": [
    "#printing the first 5 rows\n",
    "df.head()"
   ]
  },
  {
   "cell_type": "code",
   "execution_count": 6,
   "metadata": {},
   "outputs": [
    {
     "data": {
      "text/plain": [
       "Index(['Domain', 'Have_IP', 'Have_At', 'URL_Length', 'URL_Depth',\n",
       "       'Redirection', 'https_Domain', 'TinyURL', 'Prefix/Suffix', 'DNS_Record',\n",
       "       'Web_Traffic', 'Domain_Age', 'Domain_End', 'iFrame', 'Mouse_Over',\n",
       "       'Right_Click', 'Web_Forwards', 'Label'],\n",
       "      dtype='object')"
      ]
     },
     "execution_count": 6,
     "metadata": {},
     "output_type": "execute_result"
    }
   ],
   "source": [
    "#printing the columns\n",
    "df.columns"
   ]
  },
  {
   "cell_type": "code",
   "execution_count": 7,
   "metadata": {},
   "outputs": [
    {
     "data": {
      "text/html": [
       "<div>\n",
       "<style scoped>\n",
       "    .dataframe tbody tr th:only-of-type {\n",
       "        vertical-align: middle;\n",
       "    }\n",
       "\n",
       "    .dataframe tbody tr th {\n",
       "        vertical-align: top;\n",
       "    }\n",
       "\n",
       "    .dataframe thead th {\n",
       "        text-align: right;\n",
       "    }\n",
       "</style>\n",
       "<table border=\"1\" class=\"dataframe\">\n",
       "  <thead>\n",
       "    <tr style=\"text-align: right;\">\n",
       "      <th></th>\n",
       "      <th>0</th>\n",
       "      <th>1</th>\n",
       "      <th>2</th>\n",
       "      <th>3</th>\n",
       "      <th>4</th>\n",
       "    </tr>\n",
       "  </thead>\n",
       "  <tbody>\n",
       "    <tr>\n",
       "      <th>Domain</th>\n",
       "      <td>graphicriver.net</td>\n",
       "      <td>ecnavi.jp</td>\n",
       "      <td>hubpages.com</td>\n",
       "      <td>extratorrent.cc</td>\n",
       "      <td>icicibank.com</td>\n",
       "    </tr>\n",
       "    <tr>\n",
       "      <th>Have_IP</th>\n",
       "      <td>0</td>\n",
       "      <td>0</td>\n",
       "      <td>0</td>\n",
       "      <td>0</td>\n",
       "      <td>0</td>\n",
       "    </tr>\n",
       "    <tr>\n",
       "      <th>Have_At</th>\n",
       "      <td>0</td>\n",
       "      <td>0</td>\n",
       "      <td>0</td>\n",
       "      <td>0</td>\n",
       "      <td>0</td>\n",
       "    </tr>\n",
       "    <tr>\n",
       "      <th>URL_Length</th>\n",
       "      <td>1</td>\n",
       "      <td>1</td>\n",
       "      <td>1</td>\n",
       "      <td>1</td>\n",
       "      <td>1</td>\n",
       "    </tr>\n",
       "    <tr>\n",
       "      <th>URL_Depth</th>\n",
       "      <td>1</td>\n",
       "      <td>1</td>\n",
       "      <td>1</td>\n",
       "      <td>3</td>\n",
       "      <td>3</td>\n",
       "    </tr>\n",
       "    <tr>\n",
       "      <th>Redirection</th>\n",
       "      <td>0</td>\n",
       "      <td>1</td>\n",
       "      <td>0</td>\n",
       "      <td>0</td>\n",
       "      <td>0</td>\n",
       "    </tr>\n",
       "    <tr>\n",
       "      <th>https_Domain</th>\n",
       "      <td>0</td>\n",
       "      <td>0</td>\n",
       "      <td>0</td>\n",
       "      <td>0</td>\n",
       "      <td>0</td>\n",
       "    </tr>\n",
       "    <tr>\n",
       "      <th>TinyURL</th>\n",
       "      <td>0</td>\n",
       "      <td>0</td>\n",
       "      <td>0</td>\n",
       "      <td>0</td>\n",
       "      <td>0</td>\n",
       "    </tr>\n",
       "    <tr>\n",
       "      <th>Prefix/Suffix</th>\n",
       "      <td>0</td>\n",
       "      <td>0</td>\n",
       "      <td>0</td>\n",
       "      <td>0</td>\n",
       "      <td>0</td>\n",
       "    </tr>\n",
       "    <tr>\n",
       "      <th>DNS_Record</th>\n",
       "      <td>0</td>\n",
       "      <td>0</td>\n",
       "      <td>0</td>\n",
       "      <td>0</td>\n",
       "      <td>0</td>\n",
       "    </tr>\n",
       "    <tr>\n",
       "      <th>Web_Traffic</th>\n",
       "      <td>1</td>\n",
       "      <td>1</td>\n",
       "      <td>1</td>\n",
       "      <td>1</td>\n",
       "      <td>1</td>\n",
       "    </tr>\n",
       "    <tr>\n",
       "      <th>Domain_Age</th>\n",
       "      <td>1</td>\n",
       "      <td>1</td>\n",
       "      <td>0</td>\n",
       "      <td>0</td>\n",
       "      <td>0</td>\n",
       "    </tr>\n",
       "    <tr>\n",
       "      <th>Domain_End</th>\n",
       "      <td>1</td>\n",
       "      <td>1</td>\n",
       "      <td>1</td>\n",
       "      <td>1</td>\n",
       "      <td>1</td>\n",
       "    </tr>\n",
       "    <tr>\n",
       "      <th>iFrame</th>\n",
       "      <td>0</td>\n",
       "      <td>0</td>\n",
       "      <td>0</td>\n",
       "      <td>0</td>\n",
       "      <td>0</td>\n",
       "    </tr>\n",
       "    <tr>\n",
       "      <th>Mouse_Over</th>\n",
       "      <td>0</td>\n",
       "      <td>0</td>\n",
       "      <td>0</td>\n",
       "      <td>0</td>\n",
       "      <td>0</td>\n",
       "    </tr>\n",
       "    <tr>\n",
       "      <th>Right_Click</th>\n",
       "      <td>1</td>\n",
       "      <td>1</td>\n",
       "      <td>1</td>\n",
       "      <td>1</td>\n",
       "      <td>1</td>\n",
       "    </tr>\n",
       "    <tr>\n",
       "      <th>Web_Forwards</th>\n",
       "      <td>0</td>\n",
       "      <td>0</td>\n",
       "      <td>0</td>\n",
       "      <td>0</td>\n",
       "      <td>0</td>\n",
       "    </tr>\n",
       "    <tr>\n",
       "      <th>Label</th>\n",
       "      <td>0</td>\n",
       "      <td>0</td>\n",
       "      <td>0</td>\n",
       "      <td>0</td>\n",
       "      <td>0</td>\n",
       "    </tr>\n",
       "  </tbody>\n",
       "</table>\n",
       "</div>"
      ],
      "text/plain": [
       "                              0          1             2                3  \\\n",
       "Domain         graphicriver.net  ecnavi.jp  hubpages.com  extratorrent.cc   \n",
       "Have_IP                       0          0             0                0   \n",
       "Have_At                       0          0             0                0   \n",
       "URL_Length                    1          1             1                1   \n",
       "URL_Depth                     1          1             1                3   \n",
       "Redirection                   0          1             0                0   \n",
       "https_Domain                  0          0             0                0   \n",
       "TinyURL                       0          0             0                0   \n",
       "Prefix/Suffix                 0          0             0                0   \n",
       "DNS_Record                    0          0             0                0   \n",
       "Web_Traffic                   1          1             1                1   \n",
       "Domain_Age                    1          1             0                0   \n",
       "Domain_End                    1          1             1                1   \n",
       "iFrame                        0          0             0                0   \n",
       "Mouse_Over                    0          0             0                0   \n",
       "Right_Click                   1          1             1                1   \n",
       "Web_Forwards                  0          0             0                0   \n",
       "Label                         0          0             0                0   \n",
       "\n",
       "                           4  \n",
       "Domain         icicibank.com  \n",
       "Have_IP                    0  \n",
       "Have_At                    0  \n",
       "URL_Length                 1  \n",
       "URL_Depth                  3  \n",
       "Redirection                0  \n",
       "https_Domain               0  \n",
       "TinyURL                    0  \n",
       "Prefix/Suffix              0  \n",
       "DNS_Record                 0  \n",
       "Web_Traffic                1  \n",
       "Domain_Age                 0  \n",
       "Domain_End                 1  \n",
       "iFrame                     0  \n",
       "Mouse_Over                 0  \n",
       "Right_Click                1  \n",
       "Web_Forwards               0  \n",
       "Label                      0  "
      ]
     },
     "execution_count": 7,
     "metadata": {},
     "output_type": "execute_result"
    }
   ],
   "source": [
    "#printing the data\n",
    "df.head().T"
   ]
  },
  {
   "cell_type": "code",
   "execution_count": 8,
   "metadata": {},
   "outputs": [
    {
     "name": "stdout",
     "output_type": "stream",
     "text": [
      "<class 'pandas.core.frame.DataFrame'>\n",
      "RangeIndex: 10000 entries, 0 to 9999\n",
      "Data columns (total 18 columns):\n",
      " #   Column         Non-Null Count  Dtype \n",
      "---  ------         --------------  ----- \n",
      " 0   Domain         10000 non-null  object\n",
      " 1   Have_IP        10000 non-null  int64 \n",
      " 2   Have_At        10000 non-null  int64 \n",
      " 3   URL_Length     10000 non-null  int64 \n",
      " 4   URL_Depth      10000 non-null  int64 \n",
      " 5   Redirection    10000 non-null  int64 \n",
      " 6   https_Domain   10000 non-null  int64 \n",
      " 7   TinyURL        10000 non-null  int64 \n",
      " 8   Prefix/Suffix  10000 non-null  int64 \n",
      " 9   DNS_Record     10000 non-null  int64 \n",
      " 10  Web_Traffic    10000 non-null  int64 \n",
      " 11  Domain_Age     10000 non-null  int64 \n",
      " 12  Domain_End     10000 non-null  int64 \n",
      " 13  iFrame         10000 non-null  int64 \n",
      " 14  Mouse_Over     10000 non-null  int64 \n",
      " 15  Right_Click    10000 non-null  int64 \n",
      " 16  Web_Forwards   10000 non-null  int64 \n",
      " 17  Label          10000 non-null  int64 \n",
      "dtypes: int64(17), object(1)\n",
      "memory usage: 1.4+ MB\n"
     ]
    }
   ],
   "source": [
    "#checking the information of all the columns \n",
    "df.info()"
   ]
  },
  {
   "cell_type": "markdown",
   "metadata": {},
   "source": [
    "# Exploratory Data analysis"
   ]
  },
  {
   "cell_type": "code",
   "execution_count": 9,
   "metadata": {},
   "outputs": [
    {
     "data": {
      "text/plain": [
       "Text(0.5, 1.0, 'Class distribution of the websites')"
      ]
     },
     "execution_count": 9,
     "metadata": {},
     "output_type": "execute_result"
    },
    {
     "data": {
      "image/png": "[encoded data removed]",
      "text/plain": [
       "<Figure size 432x288 with 1 Axes>"
      ]
     },
     "metadata": {},
     "output_type": "display_data"
    }
   ],
   "source": [
    "#chceking the class distribution\n",
    "((df['Label'].value_counts()/len(df))*100).plot(kind='bar')\n",
    "plt.ylabel('percentage')\n",
    "plt.xlabel('Class')\n",
    "plt.title('Class distribution of the websites')"
   ]
  },
  {
   "cell_type": "code",
   "execution_count": 10,
   "metadata": {},
   "outputs": [
    {
     "data": {
      "image/png": "[encoded data removed]",
      "text/plain": [
       "<Figure size 1080x1080 with 20 Axes>"
      ]
     },
     "metadata": {},
     "output_type": "display_data"
    }
   ],
   "source": [
    "#Plotting the data distribution\n",
    "df.hist(bins = 50,figsize = (15,15))\n",
    "plt.show()"
   ]
  },
  {
   "cell_type": "code",
   "execution_count": 133,
   "metadata": {},
   "outputs": [],
   "source": [
    "#importing seaborn library\n",
    "import seaborn as sns"
   ]
  },
  {
   "cell_type": "code",
   "execution_count": 134,
   "metadata": {},
   "outputs": [
    {
     "data": {
      "image/png": "[encoded data removed]",
      "text/plain": [
       "<Figure size 1080x936 with 2 Axes>"
      ]
     },
     "metadata": {},
     "output_type": "display_data"
    }
   ],
   "source": [
    "#Correlation heatmap\n",
    "\n",
    "plt.figure(figsize=(15,13))\n",
    "sns.heatmap(df.corr())\n",
    "plt.show()"
   ]
  },
  {
   "cell_type": "code",
   "execution_count": 135,
   "metadata": {},
   "outputs": [
    {
     "data": {
      "text/html": [
       "<div>\n",
       "<style scoped>\n",
       "    .dataframe tbody tr th:only-of-type {\n",
       "        vertical-align: middle;\n",
       "    }\n",
       "\n",
       "    .dataframe tbody tr th {\n",
       "        vertical-align: top;\n",
       "    }\n",
       "\n",
       "    .dataframe thead th {\n",
       "        text-align: right;\n",
       "    }\n",
       "</style>\n",
       "<table border=\"1\" class=\"dataframe\">\n",
       "  <thead>\n",
       "    <tr style=\"text-align: right;\">\n",
       "      <th></th>\n",
       "      <th>Have_IP</th>\n",
       "      <th>Have_At</th>\n",
       "      <th>URL_Length</th>\n",
       "      <th>URL_Depth</th>\n",
       "      <th>Redirection</th>\n",
       "      <th>https_Domain</th>\n",
       "      <th>TinyURL</th>\n",
       "      <th>Prefix/Suffix</th>\n",
       "      <th>DNS_Record</th>\n",
       "      <th>Web_Traffic</th>\n",
       "      <th>Domain_Age</th>\n",
       "      <th>Domain_End</th>\n",
       "      <th>iFrame</th>\n",
       "      <th>Mouse_Over</th>\n",
       "      <th>Right_Click</th>\n",
       "      <th>Web_Forwards</th>\n",
       "      <th>Label</th>\n",
       "    </tr>\n",
       "  </thead>\n",
       "  <tbody>\n",
       "    <tr>\n",
       "      <th>Have_IP</th>\n",
       "      <td>1.000000</td>\n",
       "      <td>-0.011308</td>\n",
       "      <td>-0.076021</td>\n",
       "      <td>-0.030466</td>\n",
       "      <td>-0.008700</td>\n",
       "      <td>-0.001052</td>\n",
       "      <td>-0.023430</td>\n",
       "      <td>-0.023841</td>\n",
       "      <td>-0.011425</td>\n",
       "      <td>0.024279</td>\n",
       "      <td>0.047349</td>\n",
       "      <td>0.018799</td>\n",
       "      <td>-0.004701</td>\n",
       "      <td>0.007251</td>\n",
       "      <td>0.001968</td>\n",
       "      <td>-0.003487</td>\n",
       "      <td>0.074367</td>\n",
       "    </tr>\n",
       "    <tr>\n",
       "      <th>Have_At</th>\n",
       "      <td>-0.011308</td>\n",
       "      <td>1.000000</td>\n",
       "      <td>0.067844</td>\n",
       "      <td>0.029944</td>\n",
       "      <td>-0.000297</td>\n",
       "      <td>-0.002151</td>\n",
       "      <td>0.067122</td>\n",
       "      <td>0.018369</td>\n",
       "      <td>0.025073</td>\n",
       "      <td>-0.017002</td>\n",
       "      <td>-0.017072</td>\n",
       "      <td>0.001651</td>\n",
       "      <td>-0.008294</td>\n",
       "      <td>-0.021728</td>\n",
       "      <td>0.004025</td>\n",
       "      <td>-0.030246</td>\n",
       "      <td>0.118419</td>\n",
       "    </tr>\n",
       "    <tr>\n",
       "      <th>URL_Length</th>\n",
       "      <td>-0.076021</td>\n",
       "      <td>0.067844</td>\n",
       "      <td>1.000000</td>\n",
       "      <td>0.439378</td>\n",
       "      <td>0.038482</td>\n",
       "      <td>0.007656</td>\n",
       "      <td>-0.005318</td>\n",
       "      <td>-0.146102</td>\n",
       "      <td>-0.019508</td>\n",
       "      <td>0.063717</td>\n",
       "      <td>0.071029</td>\n",
       "      <td>0.028755</td>\n",
       "      <td>-0.039903</td>\n",
       "      <td>-0.068104</td>\n",
       "      <td>0.030833</td>\n",
       "      <td>-0.023651</td>\n",
       "      <td>-0.541287</td>\n",
       "    </tr>\n",
       "    <tr>\n",
       "      <th>URL_Depth</th>\n",
       "      <td>-0.030466</td>\n",
       "      <td>0.029944</td>\n",
       "      <td>0.439378</td>\n",
       "      <td>1.000000</td>\n",
       "      <td>-0.040189</td>\n",
       "      <td>-0.000478</td>\n",
       "      <td>0.010980</td>\n",
       "      <td>-0.114919</td>\n",
       "      <td>-0.086073</td>\n",
       "      <td>0.075315</td>\n",
       "      <td>-0.070101</td>\n",
       "      <td>-0.061798</td>\n",
       "      <td>-0.039297</td>\n",
       "      <td>-0.105889</td>\n",
       "      <td>-0.002657</td>\n",
       "      <td>-0.051248</td>\n",
       "      <td>-0.119707</td>\n",
       "    </tr>\n",
       "    <tr>\n",
       "      <th>Redirection</th>\n",
       "      <td>-0.008700</td>\n",
       "      <td>-0.000297</td>\n",
       "      <td>0.038482</td>\n",
       "      <td>-0.040189</td>\n",
       "      <td>1.000000</td>\n",
       "      <td>-0.001655</td>\n",
       "      <td>0.026634</td>\n",
       "      <td>-0.025581</td>\n",
       "      <td>-0.027654</td>\n",
       "      <td>0.018784</td>\n",
       "      <td>0.012581</td>\n",
       "      <td>0.025758</td>\n",
       "      <td>-0.012876</td>\n",
       "      <td>-0.017346</td>\n",
       "      <td>0.003096</td>\n",
       "      <td>-0.023193</td>\n",
       "      <td>0.002600</td>\n",
       "    </tr>\n",
       "    <tr>\n",
       "      <th>https_Domain</th>\n",
       "      <td>-0.001052</td>\n",
       "      <td>-0.002151</td>\n",
       "      <td>0.007656</td>\n",
       "      <td>-0.000478</td>\n",
       "      <td>-0.001655</td>\n",
       "      <td>1.000000</td>\n",
       "      <td>-0.004456</td>\n",
       "      <td>-0.004534</td>\n",
       "      <td>0.042243</td>\n",
       "      <td>-0.033112</td>\n",
       "      <td>0.016837</td>\n",
       "      <td>0.006852</td>\n",
       "      <td>-0.004472</td>\n",
       "      <td>-0.003778</td>\n",
       "      <td>0.000374</td>\n",
       "      <td>-0.004852</td>\n",
       "      <td>0.014144</td>\n",
       "    </tr>\n",
       "    <tr>\n",
       "      <th>TinyURL</th>\n",
       "      <td>-0.023430</td>\n",
       "      <td>0.067122</td>\n",
       "      <td>-0.005318</td>\n",
       "      <td>0.010980</td>\n",
       "      <td>0.026634</td>\n",
       "      <td>-0.004456</td>\n",
       "      <td>1.000000</td>\n",
       "      <td>0.087421</td>\n",
       "      <td>0.059078</td>\n",
       "      <td>0.040888</td>\n",
       "      <td>0.095944</td>\n",
       "      <td>0.006812</td>\n",
       "      <td>-0.062000</td>\n",
       "      <td>-0.054771</td>\n",
       "      <td>0.008339</td>\n",
       "      <td>-0.003508</td>\n",
       "      <td>0.072921</td>\n",
       "    </tr>\n",
       "    <tr>\n",
       "      <th>Prefix/Suffix</th>\n",
       "      <td>-0.023841</td>\n",
       "      <td>0.018369</td>\n",
       "      <td>-0.146102</td>\n",
       "      <td>-0.114919</td>\n",
       "      <td>-0.025581</td>\n",
       "      <td>-0.004534</td>\n",
       "      <td>0.087421</td>\n",
       "      <td>1.000000</td>\n",
       "      <td>-0.006793</td>\n",
       "      <td>-0.046843</td>\n",
       "      <td>-0.019954</td>\n",
       "      <td>0.031711</td>\n",
       "      <td>0.050594</td>\n",
       "      <td>0.070263</td>\n",
       "      <td>-0.017527</td>\n",
       "      <td>0.030102</td>\n",
       "      <td>0.302705</td>\n",
       "    </tr>\n",
       "    <tr>\n",
       "      <th>DNS_Record</th>\n",
       "      <td>-0.011425</td>\n",
       "      <td>0.025073</td>\n",
       "      <td>-0.019508</td>\n",
       "      <td>-0.086073</td>\n",
       "      <td>-0.027654</td>\n",
       "      <td>0.042243</td>\n",
       "      <td>0.059078</td>\n",
       "      <td>-0.006793</td>\n",
       "      <td>1.000000</td>\n",
       "      <td>0.065776</td>\n",
       "      <td>0.398583</td>\n",
       "      <td>0.162210</td>\n",
       "      <td>0.103266</td>\n",
       "      <td>0.094410</td>\n",
       "      <td>0.008861</td>\n",
       "      <td>0.042050</td>\n",
       "      <td>0.015943</td>\n",
       "    </tr>\n",
       "    <tr>\n",
       "      <th>Web_Traffic</th>\n",
       "      <td>0.024279</td>\n",
       "      <td>-0.017002</td>\n",
       "      <td>0.063717</td>\n",
       "      <td>0.075315</td>\n",
       "      <td>0.018784</td>\n",
       "      <td>-0.033112</td>\n",
       "      <td>0.040888</td>\n",
       "      <td>-0.046843</td>\n",
       "      <td>0.065776</td>\n",
       "      <td>1.000000</td>\n",
       "      <td>0.013681</td>\n",
       "      <td>0.015998</td>\n",
       "      <td>0.006990</td>\n",
       "      <td>0.057473</td>\n",
       "      <td>0.051495</td>\n",
       "      <td>0.073485</td>\n",
       "      <td>-0.108793</td>\n",
       "    </tr>\n",
       "    <tr>\n",
       "      <th>Domain_Age</th>\n",
       "      <td>0.047349</td>\n",
       "      <td>-0.017072</td>\n",
       "      <td>0.071029</td>\n",
       "      <td>-0.070101</td>\n",
       "      <td>0.012581</td>\n",
       "      <td>0.016837</td>\n",
       "      <td>0.095944</td>\n",
       "      <td>-0.019954</td>\n",
       "      <td>0.398583</td>\n",
       "      <td>0.013681</td>\n",
       "      <td>1.000000</td>\n",
       "      <td>0.329345</td>\n",
       "      <td>-0.034648</td>\n",
       "      <td>-0.018343</td>\n",
       "      <td>0.022232</td>\n",
       "      <td>-0.028860</td>\n",
       "      <td>-0.085077</td>\n",
       "    </tr>\n",
       "    <tr>\n",
       "      <th>Domain_End</th>\n",
       "      <td>0.018799</td>\n",
       "      <td>0.001651</td>\n",
       "      <td>0.028755</td>\n",
       "      <td>-0.061798</td>\n",
       "      <td>0.025758</td>\n",
       "      <td>0.006852</td>\n",
       "      <td>0.006812</td>\n",
       "      <td>0.031711</td>\n",
       "      <td>0.162210</td>\n",
       "      <td>0.015998</td>\n",
       "      <td>0.329345</td>\n",
       "      <td>1.000000</td>\n",
       "      <td>-0.042731</td>\n",
       "      <td>-0.007557</td>\n",
       "      <td>0.006449</td>\n",
       "      <td>-0.022273</td>\n",
       "      <td>-0.068556</td>\n",
       "    </tr>\n",
       "    <tr>\n",
       "      <th>iFrame</th>\n",
       "      <td>-0.004701</td>\n",
       "      <td>-0.008294</td>\n",
       "      <td>-0.039903</td>\n",
       "      <td>-0.039297</td>\n",
       "      <td>-0.012876</td>\n",
       "      <td>-0.004472</td>\n",
       "      <td>-0.062000</td>\n",
       "      <td>0.050594</td>\n",
       "      <td>0.103266</td>\n",
       "      <td>0.006990</td>\n",
       "      <td>-0.034648</td>\n",
       "      <td>-0.042731</td>\n",
       "      <td>1.000000</td>\n",
       "      <td>0.807077</td>\n",
       "      <td>0.008369</td>\n",
       "      <td>0.617989</td>\n",
       "      <td>0.098446</td>\n",
       "    </tr>\n",
       "    <tr>\n",
       "      <th>Mouse_Over</th>\n",
       "      <td>0.007251</td>\n",
       "      <td>-0.021728</td>\n",
       "      <td>-0.068104</td>\n",
       "      <td>-0.105889</td>\n",
       "      <td>-0.017346</td>\n",
       "      <td>-0.003778</td>\n",
       "      <td>-0.054771</td>\n",
       "      <td>0.070263</td>\n",
       "      <td>0.094410</td>\n",
       "      <td>0.057473</td>\n",
       "      <td>-0.018343</td>\n",
       "      <td>-0.007557</td>\n",
       "      <td>0.807077</td>\n",
       "      <td>1.000000</td>\n",
       "      <td>0.007070</td>\n",
       "      <td>0.749877</td>\n",
       "      <td>0.051338</td>\n",
       "    </tr>\n",
       "    <tr>\n",
       "      <th>Right_Click</th>\n",
       "      <td>0.001968</td>\n",
       "      <td>0.004025</td>\n",
       "      <td>0.030833</td>\n",
       "      <td>-0.002657</td>\n",
       "      <td>0.003096</td>\n",
       "      <td>0.000374</td>\n",
       "      <td>0.008339</td>\n",
       "      <td>-0.017527</td>\n",
       "      <td>0.008861</td>\n",
       "      <td>0.051495</td>\n",
       "      <td>0.022232</td>\n",
       "      <td>0.006449</td>\n",
       "      <td>0.008369</td>\n",
       "      <td>0.007070</td>\n",
       "      <td>1.000000</td>\n",
       "      <td>0.009080</td>\n",
       "      <td>-0.026467</td>\n",
       "    </tr>\n",
       "    <tr>\n",
       "      <th>Web_Forwards</th>\n",
       "      <td>-0.003487</td>\n",
       "      <td>-0.030246</td>\n",
       "      <td>-0.023651</td>\n",
       "      <td>-0.051248</td>\n",
       "      <td>-0.023193</td>\n",
       "      <td>-0.004852</td>\n",
       "      <td>-0.003508</td>\n",
       "      <td>0.030102</td>\n",
       "      <td>0.042050</td>\n",
       "      <td>0.073485</td>\n",
       "      <td>-0.028860</td>\n",
       "      <td>-0.022273</td>\n",
       "      <td>0.617989</td>\n",
       "      <td>0.749877</td>\n",
       "      <td>0.009080</td>\n",
       "      <td>1.000000</td>\n",
       "      <td>-0.041376</td>\n",
       "    </tr>\n",
       "    <tr>\n",
       "      <th>Label</th>\n",
       "      <td>0.074367</td>\n",
       "      <td>0.118419</td>\n",
       "      <td>-0.541287</td>\n",
       "      <td>-0.119707</td>\n",
       "      <td>0.002600</td>\n",
       "      <td>0.014144</td>\n",
       "      <td>0.072921</td>\n",
       "      <td>0.302705</td>\n",
       "      <td>0.015943</td>\n",
       "      <td>-0.108793</td>\n",
       "      <td>-0.085077</td>\n",
       "      <td>-0.068556</td>\n",
       "      <td>0.098446</td>\n",
       "      <td>0.051338</td>\n",
       "      <td>-0.026467</td>\n",
       "      <td>-0.041376</td>\n",
       "      <td>1.000000</td>\n",
       "    </tr>\n",
       "  </tbody>\n",
       "</table>\n",
       "</div>"
      ],
      "text/plain": [
       "                Have_IP   Have_At  URL_Length  URL_Depth  Redirection  \\\n",
       "Have_IP        1.000000 -0.011308   -0.076021  -0.030466    -0.008700   \n",
       "Have_At       -0.011308  1.000000    0.067844   0.029944    -0.000297   \n",
       "URL_Length    -0.076021  0.067844    1.000000   0.439378     0.038482   \n",
       "URL_Depth     -0.030466  0.029944    0.439378   1.000000    -0.040189   \n",
       "Redirection   -0.008700 -0.000297    0.038482  -0.040189     1.000000   \n",
       "https_Domain  -0.001052 -0.002151    0.007656  -0.000478    -0.001655   \n",
       "TinyURL       -0.023430  0.067122   -0.005318   0.010980     0.026634   \n",
       "Prefix/Suffix -0.023841  0.018369   -0.146102  -0.114919    -0.025581   \n",
       "DNS_Record    -0.011425  0.025073   -0.019508  -0.086073    -0.027654   \n",
       "Web_Traffic    0.024279 -0.017002    0.063717   0.075315     0.018784   \n",
       "Domain_Age     0.047349 -0.017072    0.071029  -0.070101     0.012581   \n",
       "Domain_End     0.018799  0.001651    0.028755  -0.061798     0.025758   \n",
       "iFrame        -0.004701 -0.008294   -0.039903  -0.039297    -0.012876   \n",
       "Mouse_Over     0.007251 -0.021728   -0.068104  -0.105889    -0.017346   \n",
       "Right_Click    0.001968  0.004025    0.030833  -0.002657     0.003096   \n",
       "Web_Forwards  -0.003487 -0.030246   -0.023651  -0.051248    -0.023193   \n",
       "Label          0.074367  0.118419   -0.541287  -0.119707     0.002600   \n",
       "\n",
       "               https_Domain   TinyURL  Prefix/Suffix  DNS_Record  Web_Traffic  \\\n",
       "Have_IP           -0.001052 -0.023430      -0.023841   -0.011425     0.024279   \n",
       "Have_At           -0.002151  0.067122       0.018369    0.025073    -0.017002   \n",
       "URL_Length         0.007656 -0.005318      -0.146102   -0.019508     0.063717   \n",
       "URL_Depth         -0.000478  0.010980      -0.114919   -0.086073     0.075315   \n",
       "Redirection       -0.001655  0.026634      -0.025581   -0.027654     0.018784   \n",
       "https_Domain       1.000000 -0.004456      -0.004534    0.042243    -0.033112   \n",
       "TinyURL           -0.004456  1.000000       0.087421    0.059078     0.040888   \n",
       "Prefix/Suffix     -0.004534  0.087421       1.000000   -0.006793    -0.046843   \n",
       "DNS_Record         0.042243  0.059078      -0.006793    1.000000     0.065776   \n",
       "Web_Traffic       -0.033112  0.040888      -0.046843    0.065776     1.000000   \n",
       "Domain_Age         0.016837  0.095944      -0.019954    0.398583     0.013681   \n",
       "Domain_End         0.006852  0.006812       0.031711    0.162210     0.015998   \n",
       "iFrame            -0.004472 -0.062000       0.050594    0.103266     0.006990   \n",
       "Mouse_Over        -0.003778 -0.054771       0.070263    0.094410     0.057473   \n",
       "Right_Click        0.000374  0.008339      -0.017527    0.008861     0.051495   \n",
       "Web_Forwards      -0.004852 -0.003508       0.030102    0.042050     0.073485   \n",
       "Label              0.014144  0.072921       0.302705    0.015943    -0.108793   \n",
       "\n",
       "               Domain_Age  Domain_End    iFrame  Mouse_Over  Right_Click  \\\n",
       "Have_IP          0.047349    0.018799 -0.004701    0.007251     0.001968   \n",
       "Have_At         -0.017072    0.001651 -0.008294   -0.021728     0.004025   \n",
       "URL_Length       0.071029    0.028755 -0.039903   -0.068104     0.030833   \n",
       "URL_Depth       -0.070101   -0.061798 -0.039297   -0.105889    -0.002657   \n",
       "Redirection      0.012581    0.025758 -0.012876   -0.017346     0.003096   \n",
       "https_Domain     0.016837    0.006852 -0.004472   -0.003778     0.000374   \n",
       "TinyURL          0.095944    0.006812 -0.062000   -0.054771     0.008339   \n",
       "Prefix/Suffix   -0.019954    0.031711  0.050594    0.070263    -0.017527   \n",
       "DNS_Record       0.398583    0.162210  0.103266    0.094410     0.008861   \n",
       "Web_Traffic      0.013681    0.015998  0.006990    0.057473     0.051495   \n",
       "Domain_Age       1.000000    0.329345 -0.034648   -0.018343     0.022232   \n",
       "Domain_End       0.329345    1.000000 -0.042731   -0.007557     0.006449   \n",
       "iFrame          -0.034648   -0.042731  1.000000    0.807077     0.008369   \n",
       "Mouse_Over      -0.018343   -0.007557  0.807077    1.000000     0.007070   \n",
       "Right_Click      0.022232    0.006449  0.008369    0.007070     1.000000   \n",
       "Web_Forwards    -0.028860   -0.022273  0.617989    0.749877     0.009080   \n",
       "Label           -0.085077   -0.068556  0.098446    0.051338    -0.026467   \n",
       "\n",
       "               Web_Forwards     Label  \n",
       "Have_IP           -0.003487  0.074367  \n",
       "Have_At           -0.030246  0.118419  \n",
       "URL_Length        -0.023651 -0.541287  \n",
       "URL_Depth         -0.051248 -0.119707  \n",
       "Redirection       -0.023193  0.002600  \n",
       "https_Domain      -0.004852  0.014144  \n",
       "TinyURL           -0.003508  0.072921  \n",
       "Prefix/Suffix      0.030102  0.302705  \n",
       "DNS_Record         0.042050  0.015943  \n",
       "Web_Traffic        0.073485 -0.108793  \n",
       "Domain_Age        -0.028860 -0.085077  \n",
       "Domain_End        -0.022273 -0.068556  \n",
       "iFrame             0.617989  0.098446  \n",
       "Mouse_Over         0.749877  0.051338  \n",
       "Right_Click        0.009080 -0.026467  \n",
       "Web_Forwards       1.000000 -0.041376  \n",
       "Label             -0.041376  1.000000  "
      ]
     },
     "execution_count": 135,
     "metadata": {},
     "output_type": "execute_result"
    }
   ],
   "source": [
    "#checking the strength of correlation\n",
    "df.corr()"
   ]
  },
  {
   "cell_type": "markdown",
   "metadata": {},
   "source": [
    "# Data Preprocessing "
   ]
  },
  {
   "cell_type": "code",
   "execution_count": 12,
   "metadata": {},
   "outputs": [],
   "source": [
    "#Dropping the Domain column\n",
    "df1 = df.drop(['Domain'], axis = 1).copy()"
   ]
  },
  {
   "cell_type": "code",
   "execution_count": 13,
   "metadata": {},
   "outputs": [
    {
     "name": "stdout",
     "output_type": "stream",
     "text": [
      "<class 'pandas.core.frame.DataFrame'>\n",
      "RangeIndex: 10000 entries, 0 to 9999\n",
      "Data columns (total 17 columns):\n",
      " #   Column         Non-Null Count  Dtype\n",
      "---  ------         --------------  -----\n",
      " 0   Have_IP        10000 non-null  int64\n",
      " 1   Have_At        10000 non-null  int64\n",
      " 2   URL_Length     10000 non-null  int64\n",
      " 3   URL_Depth      10000 non-null  int64\n",
      " 4   Redirection    10000 non-null  int64\n",
      " 5   https_Domain   10000 non-null  int64\n",
      " 6   TinyURL        10000 non-null  int64\n",
      " 7   Prefix/Suffix  10000 non-null  int64\n",
      " 8   DNS_Record     10000 non-null  int64\n",
      " 9   Web_Traffic    10000 non-null  int64\n",
      " 10  Domain_Age     10000 non-null  int64\n",
      " 11  Domain_End     10000 non-null  int64\n",
      " 12  iFrame         10000 non-null  int64\n",
      " 13  Mouse_Over     10000 non-null  int64\n",
      " 14  Right_Click    10000 non-null  int64\n",
      " 15  Web_Forwards   10000 non-null  int64\n",
      " 16  Label          10000 non-null  int64\n",
      "dtypes: int64(17)\n",
      "memory usage: 1.3 MB\n"
     ]
    }
   ],
   "source": [
    "#checking the information of the columns\n",
    "df1.info()"
   ]
  },
  {
   "cell_type": "code",
   "execution_count": 14,
   "metadata": {},
   "outputs": [
    {
     "data": {
      "text/plain": [
       "Have_IP          0\n",
       "Have_At          0\n",
       "URL_Length       0\n",
       "URL_Depth        0\n",
       "Redirection      0\n",
       "https_Domain     0\n",
       "TinyURL          0\n",
       "Prefix/Suffix    0\n",
       "DNS_Record       0\n",
       "Web_Traffic      0\n",
       "Domain_Age       0\n",
       "Domain_End       0\n",
       "iFrame           0\n",
       "Mouse_Over       0\n",
       "Right_Click      0\n",
       "Web_Forwards     0\n",
       "Label            0\n",
       "dtype: int64"
      ]
     },
     "execution_count": 14,
     "metadata": {},
     "output_type": "execute_result"
    }
   ],
   "source": [
    "#checking the data for null or missing values\n",
    "df1.isnull().sum()"
   ]
  },
  {
   "cell_type": "code",
   "execution_count": 15,
   "metadata": {},
   "outputs": [
    {
     "data": {
      "text/html": [
       "<div>\n",
       "<style scoped>\n",
       "    .dataframe tbody tr th:only-of-type {\n",
       "        vertical-align: middle;\n",
       "    }\n",
       "\n",
       "    .dataframe tbody tr th {\n",
       "        vertical-align: top;\n",
       "    }\n",
       "\n",
       "    .dataframe thead th {\n",
       "        text-align: right;\n",
       "    }\n",
       "</style>\n",
       "<table border=\"1\" class=\"dataframe\">\n",
       "  <thead>\n",
       "    <tr style=\"text-align: right;\">\n",
       "      <th></th>\n",
       "      <th>Have_IP</th>\n",
       "      <th>Have_At</th>\n",
       "      <th>URL_Length</th>\n",
       "      <th>URL_Depth</th>\n",
       "      <th>Redirection</th>\n",
       "      <th>https_Domain</th>\n",
       "      <th>TinyURL</th>\n",
       "      <th>Prefix/Suffix</th>\n",
       "      <th>DNS_Record</th>\n",
       "      <th>Web_Traffic</th>\n",
       "      <th>Domain_Age</th>\n",
       "      <th>Domain_End</th>\n",
       "      <th>iFrame</th>\n",
       "      <th>Mouse_Over</th>\n",
       "      <th>Right_Click</th>\n",
       "      <th>Web_Forwards</th>\n",
       "      <th>Label</th>\n",
       "    </tr>\n",
       "  </thead>\n",
       "  <tbody>\n",
       "    <tr>\n",
       "      <th>0</th>\n",
       "      <td>0</td>\n",
       "      <td>0</td>\n",
       "      <td>1</td>\n",
       "      <td>3</td>\n",
       "      <td>0</td>\n",
       "      <td>0</td>\n",
       "      <td>1</td>\n",
       "      <td>0</td>\n",
       "      <td>0</td>\n",
       "      <td>1</td>\n",
       "      <td>0</td>\n",
       "      <td>1</td>\n",
       "      <td>0</td>\n",
       "      <td>0</td>\n",
       "      <td>1</td>\n",
       "      <td>0</td>\n",
       "      <td>0</td>\n",
       "    </tr>\n",
       "    <tr>\n",
       "      <th>1</th>\n",
       "      <td>0</td>\n",
       "      <td>0</td>\n",
       "      <td>1</td>\n",
       "      <td>5</td>\n",
       "      <td>0</td>\n",
       "      <td>0</td>\n",
       "      <td>0</td>\n",
       "      <td>0</td>\n",
       "      <td>0</td>\n",
       "      <td>1</td>\n",
       "      <td>0</td>\n",
       "      <td>0</td>\n",
       "      <td>1</td>\n",
       "      <td>0</td>\n",
       "      <td>1</td>\n",
       "      <td>0</td>\n",
       "      <td>1</td>\n",
       "    </tr>\n",
       "    <tr>\n",
       "      <th>2</th>\n",
       "      <td>0</td>\n",
       "      <td>0</td>\n",
       "      <td>1</td>\n",
       "      <td>4</td>\n",
       "      <td>0</td>\n",
       "      <td>0</td>\n",
       "      <td>0</td>\n",
       "      <td>0</td>\n",
       "      <td>0</td>\n",
       "      <td>1</td>\n",
       "      <td>0</td>\n",
       "      <td>0</td>\n",
       "      <td>0</td>\n",
       "      <td>0</td>\n",
       "      <td>1</td>\n",
       "      <td>0</td>\n",
       "      <td>1</td>\n",
       "    </tr>\n",
       "    <tr>\n",
       "      <th>3</th>\n",
       "      <td>0</td>\n",
       "      <td>0</td>\n",
       "      <td>1</td>\n",
       "      <td>2</td>\n",
       "      <td>0</td>\n",
       "      <td>0</td>\n",
       "      <td>0</td>\n",
       "      <td>0</td>\n",
       "      <td>0</td>\n",
       "      <td>1</td>\n",
       "      <td>1</td>\n",
       "      <td>1</td>\n",
       "      <td>0</td>\n",
       "      <td>0</td>\n",
       "      <td>1</td>\n",
       "      <td>0</td>\n",
       "      <td>1</td>\n",
       "    </tr>\n",
       "    <tr>\n",
       "      <th>4</th>\n",
       "      <td>0</td>\n",
       "      <td>0</td>\n",
       "      <td>1</td>\n",
       "      <td>5</td>\n",
       "      <td>0</td>\n",
       "      <td>0</td>\n",
       "      <td>0</td>\n",
       "      <td>0</td>\n",
       "      <td>0</td>\n",
       "      <td>0</td>\n",
       "      <td>0</td>\n",
       "      <td>0</td>\n",
       "      <td>0</td>\n",
       "      <td>0</td>\n",
       "      <td>1</td>\n",
       "      <td>0</td>\n",
       "      <td>1</td>\n",
       "    </tr>\n",
       "  </tbody>\n",
       "</table>\n",
       "</div>"
      ],
      "text/plain": [
       "   Have_IP  Have_At  URL_Length  URL_Depth  Redirection  https_Domain  \\\n",
       "0        0        0           1          3            0             0   \n",
       "1        0        0           1          5            0             0   \n",
       "2        0        0           1          4            0             0   \n",
       "3        0        0           1          2            0             0   \n",
       "4        0        0           1          5            0             0   \n",
       "\n",
       "   TinyURL  Prefix/Suffix  DNS_Record  Web_Traffic  Domain_Age  Domain_End  \\\n",
       "0        1              0           0            1           0           1   \n",
       "1        0              0           0            1           0           0   \n",
       "2        0              0           0            1           0           0   \n",
       "3        0              0           0            1           1           1   \n",
       "4        0              0           0            0           0           0   \n",
       "\n",
       "   iFrame  Mouse_Over  Right_Click  Web_Forwards  Label  \n",
       "0       0           0            1             0      0  \n",
       "1       1           0            1             0      1  \n",
       "2       0           0            1             0      1  \n",
       "3       0           0            1             0      1  \n",
       "4       0           0            1             0      1  "
      ]
     },
     "execution_count": 15,
     "metadata": {},
     "output_type": "execute_result"
    }
   ],
   "source": [
    "# shuffling the rows in the dataset so that when splitting the train and test set are equally distributed\n",
    "df1 = df1.sample(frac=1).reset_index(drop=True)\n",
    "df1.head()"
   ]
  },
  {
   "cell_type": "markdown",
   "metadata": {},
   "source": [
    "# Data Split"
   ]
  },
  {
   "cell_type": "code",
   "execution_count": 282,
   "metadata": {},
   "outputs": [
    {
     "data": {
      "text/plain": [
       "((10000, 16), (10000,))"
      ]
     },
     "execution_count": 282,
     "metadata": {},
     "output_type": "execute_result"
    }
   ],
   "source": [
    "# Sepratating & assigning features and target columns to X & y\n",
    "y = df1['Label']\n",
    "X = df1.drop('Label',axis=1)\n",
    "X.shape, y.shape"
   ]
  },
  {
   "cell_type": "code",
   "execution_count": 283,
   "metadata": {},
   "outputs": [
    {
     "data": {
      "text/plain": [
       "((8000, 16), (2000, 16))"
      ]
     },
     "execution_count": 283,
     "metadata": {},
     "output_type": "execute_result"
    }
   ],
   "source": [
    "# Splitting the dataset into train and test sets: 80-20 split\n",
    "from sklearn.model_selection import train_test_split\n",
    "\n",
    "X_train, X_test, y_train, y_test = train_test_split(X, y, \n",
    "                                                    test_size = 0.2, random_state = 12)\n",
    "X_train.shape, X_test.shape"
   ]
  },
  {
   "cell_type": "markdown",
   "metadata": {},
   "source": [
    "# decision tree classifier"
   ]
  },
  {
   "cell_type": "code",
   "execution_count": 284,
   "metadata": {},
   "outputs": [
    {
     "data": {
      "text/plain": [
       "0.778"
      ]
     },
     "execution_count": 284,
     "metadata": {},
     "output_type": "execute_result"
    }
   ],
   "source": [
    "# Import DecisionTreeClassifier\n",
    "In [1]: from sklearn.tree import DecisionTreeClassifier\n",
    "\n",
    "# Import train_test_split\n",
    "In [2]: from sklearn.model_selection import train_test_split\n",
    "\n",
    "# Import accuracy_score\n",
    "In [3]: from sklearn.metrics import accuracy_score\n",
    "# Split dataset into 80% train, 20% test\n",
    "In [4]: X_train, X_test, y_train, y_test= train_test_split(X, y, \n",
    "                                                          test_size=0.2, \n",
    "                                                          stratify=y,\n",
    "                                                          random_state=1)\n",
    "# Instantiate dt\n",
    "In [5]: dt = DecisionTreeClassifier(max_depth=3, random_state=1)\n",
    "\n",
    "# Fit dt to the training set\n",
    "In [6]: dt.fit(X_train,y_train) \n",
    "\n",
    "# Predict test set labels\n",
    "In [7]: y_pred = dt.predict(X_test)\n",
    "# Evaluate test-set accuracy\n",
    "In [8]: accuracy_score(y_test, y_pred)\n"
   ]
  },
  {
   "cell_type": "code",
   "execution_count": 285,
   "metadata": {},
   "outputs": [],
   "source": [
    "# Predict the labels of training set\n",
    "In [10]: y_predict_train = dt.predict(X_train)"
   ]
  },
  {
   "cell_type": "code",
   "execution_count": 286,
   "metadata": {},
   "outputs": [
    {
     "data": {
      "text/plain": [
       "0.77925"
      ]
     },
     "execution_count": 286,
     "metadata": {},
     "output_type": "execute_result"
    }
   ],
   "source": [
    "#checking the accuracy on the training dataset\n",
    "accuracy_score(y_train, y_predict_train)"
   ]
  },
  {
   "cell_type": "code",
   "execution_count": 287,
   "metadata": {},
   "outputs": [
    {
     "name": "stdout",
     "output_type": "stream",
     "text": [
      "precision_score:  0.7877846790890269\n",
      "recall score:  0.761\n"
     ]
    }
   ],
   "source": [
    "# Import the function to calculate precision score\n",
    "from sklearn.metrics import precision_score\n",
    "# Import the function to calculate recall score\n",
    "from sklearn.metrics import recall_score\n",
    "precision_score=precision_score(y_test, y_pred)\n",
    "# Print precision score\n",
    "print('precision_score: ', precision_score)\n",
    "recall_score=recall_score(y_test, y_pred)\n",
    "# Print recall score\n",
    "print('recall score: ', recall_score)\n"
   ]
  },
  {
   "cell_type": "code",
   "execution_count": 147,
   "metadata": {},
   "outputs": [
    {
     "data": {
      "image/png": "[encoded data removed]",
      "text/plain": [
       "<Figure size 648x504 with 1 Axes>"
      ]
     },
     "metadata": {},
     "output_type": "display_data"
    }
   ],
   "source": [
    "#checking the feature improtance in the model\n",
    "plt.figure(figsize=(9,7))\n",
    "n_features = X_train.shape[1]\n",
    "plt.barh(range(n_features), dt.feature_importances_, align='center')\n",
    "plt.yticks(np.arange(n_features), X_train.columns)\n",
    "plt.xlabel(\"Feature importance\")\n",
    "plt.ylabel(\"Feature\")\n",
    "plt.show()"
   ]
  },
  {
   "cell_type": "markdown",
   "metadata": {},
   "source": [
    "# Using gini as a criterion¶"
   ]
  },
  {
   "cell_type": "code",
   "execution_count": 292,
   "metadata": {},
   "outputs": [],
   "source": [
    "# Instantiate dt, set 'criterion' to 'gini'\n",
    "In [5]: dt = DecisionTreeClassifier(criterion='gini',max_depth=3, random_state=1)\n",
    "\n",
    "# Fit dt to the training set\n",
    "In [6]: dt.fit(X_train,y_train)\n",
    "\n",
    "# Predict test-set labels\n",
    "In [7]: y_pred= dt.predict(X_test)\n",
    "\n",
    "# Evaluate test-set accuracy\n",
    "In [8]: accuracy_gini=accuracy_score(y_test, y_pred)"
   ]
  },
  {
   "cell_type": "code",
   "execution_count": 293,
   "metadata": {},
   "outputs": [
    {
     "name": "stdout",
     "output_type": "stream",
     "text": [
      "precision_score:  0.7877846790890269\n",
      "recall score:  0.761\n"
     ]
    }
   ],
   "source": [
    "# Import the function to calculate precision score\n",
    "from sklearn.metrics import precision_score\n",
    "# Import the function to calculate recall score\n",
    "from sklearn.metrics import recall_score\n",
    "precision_score=precision_score(y_test, y_pred)\n",
    "# Print precision score\n",
    "print('precision_score: ', precision_score)\n",
    "recall_score=recall_score(y_test, y_pred)\n",
    "# Print recall score\n",
    "print('recall score: ', recall_score)\n"
   ]
  },
  {
   "cell_type": "code",
   "execution_count": 294,
   "metadata": {},
   "outputs": [
    {
     "data": {
      "text/plain": [
       "DecisionTreeClassifier(criterion='entropy', max_depth=3, random_state=1)"
      ]
     },
     "execution_count": 294,
     "metadata": {},
     "output_type": "execute_result"
    }
   ],
   "source": [
    "# Import DecisionTreeClassifier from sklearn.tree\n",
    "from sklearn.tree import DecisionTreeClassifier\n",
    "\n",
    "# Instantiate dt_entropy, set 'entropy' as the information criterion\n",
    "dt_entropy = DecisionTreeClassifier(criterion='entropy',max_depth=3, random_state=1)\n",
    "\n",
    "# Fit dt_entropy to the training set\n",
    "dt_entropy.fit(X_train, y_train)"
   ]
  },
  {
   "cell_type": "code",
   "execution_count": 295,
   "metadata": {},
   "outputs": [
    {
     "name": "stdout",
     "output_type": "stream",
     "text": [
      "Accuracy achieved by using entropy:  0.778\n",
      "Accuracy achieved by using the gini index:  0.778\n"
     ]
    }
   ],
   "source": [
    "# Import accuracy_score from sklearn.metrics\n",
    "from sklearn.metrics import accuracy_score\n",
    "\n",
    "# Use dt_entropy to predict test set labels\n",
    "y_pred = dt_entropy.predict(X_test)\n",
    "\n",
    "# Evaluate accuracy_entropy\n",
    "accuracy_entropy = accuracy_score(y_test, y_pred)\n",
    "\n",
    "# Print accuracy_entropy\n",
    "print('Accuracy achieved by using entropy: ', accuracy_entropy)\n",
    "\n",
    "# Print accuracy_gini\n",
    "print('Accuracy achieved by using the gini index: ', accuracy_gini)"
   ]
  },
  {
   "cell_type": "code",
   "execution_count": 296,
   "metadata": {},
   "outputs": [
    {
     "name": "stdout",
     "output_type": "stream",
     "text": [
      "precision_score:  0.7877846790890269\n",
      "recall score:  0.761\n"
     ]
    }
   ],
   "source": [
    "# Import the function to calculate precision score\n",
    "from sklearn.metrics import precision_score\n",
    "# Import the function to calculate recall score\n",
    "from sklearn.metrics import recall_score\n",
    "precision_score=precision_score(y_test, y_pred)\n",
    "# Print precision score\n",
    "print('precision_score: ', precision_score)\n",
    "recall_score=recall_score(y_test, y_pred)\n",
    "# Print recall score\n",
    "print('recall score: ', recall_score)\n"
   ]
  },
  {
   "cell_type": "markdown",
   "metadata": {},
   "source": [
    "# Random forest classifier"
   ]
  },
  {
   "cell_type": "code",
   "execution_count": 297,
   "metadata": {},
   "outputs": [],
   "source": [
    "# Random Forest model\n",
    "from sklearn.ensemble import RandomForestClassifier\n"
   ]
  },
  {
   "cell_type": "code",
   "execution_count": 298,
   "metadata": {},
   "outputs": [],
   "source": [
    "# Instantiate a random forests classifier 'rf' 400 estimators\n",
    "In [6]: rf = RandomForestClassifier(max_depth=3,  \n",
    "                                   random_state=1)\n",
    "# Fit 'rf' to the training set\n",
    "In [7]: rf.fit(X_train, y_train)\n",
    "\n",
    "# Predict the test set labels 'y_pred'\n",
    "In [8]: y_pred = rf.predict(X_test)"
   ]
  },
  {
   "cell_type": "code",
   "execution_count": 299,
   "metadata": {},
   "outputs": [],
   "source": [
    "# Predict the train set labels 'y_pred_train'\n",
    "y_pred_train = rf.predict(X_train)"
   ]
  },
  {
   "cell_type": "code",
   "execution_count": 300,
   "metadata": {},
   "outputs": [
    {
     "name": "stdout",
     "output_type": "stream",
     "text": [
      "Random forest: Accuracy on training Data: 0.793\n",
      "Random forest: Accuracy on test Data: 0.797\n"
     ]
    }
   ],
   "source": [
    "#computing the accuracy of the model performance\n",
    "acc_train = accuracy_score(y_train,y_pred_train)\n",
    "acc_test= accuracy_score(y_test,y_pred)\n",
    "\n",
    "print(\"Random forest: Accuracy on training Data: {:.3f}\".format(acc_train))\n",
    "print(\"Random forest: Accuracy on test Data: {:.3f}\".format(acc_test))"
   ]
  },
  {
   "cell_type": "code",
   "execution_count": 301,
   "metadata": {},
   "outputs": [
    {
     "name": "stdout",
     "output_type": "stream",
     "text": [
      "precision_score:  0.9775280898876404\n",
      "recall score:  0.609\n"
     ]
    }
   ],
   "source": [
    "# Import the function to calculate precision score\n",
    "from sklearn.metrics import precision_score\n",
    "# Import the function to calculate recall score\n",
    "from sklearn.metrics import recall_score\n",
    "precision_score=precision_score(y_test, y_pred)\n",
    "# Print precision score\n",
    "print('precision_score: ', precision_score)\n",
    "recall_score=recall_score(y_test, y_pred)\n",
    "# Print recall score\n",
    "print('recall score: ', recall_score)\n"
   ]
  },
  {
   "cell_type": "markdown",
   "metadata": {},
   "source": [
    "# checking the feature importance of the model"
   ]
  },
  {
   "cell_type": "code",
   "execution_count": 302,
   "metadata": {},
   "outputs": [],
   "source": [
    "# Instantiate a random forests classifier 'rf' 400 estimators\n",
    "In [6]: rf = RandomForestClassifier(max_depth=3,random_state=1)\n",
    "# Fit 'rf' to the training set\n",
    "In [7]: rf.fit(X_train, y_train)\n",
    "\n",
    "# Predict the test set labels 'y_pred'\n",
    "In [8]: y_pred = rf.predict(X_test)"
   ]
  },
  {
   "cell_type": "code",
   "execution_count": 303,
   "metadata": {},
   "outputs": [],
   "source": [
    "# Predict the train set labels 'y_pred_train'\n",
    "y_pred_train = rf.predict(X_train)"
   ]
  },
  {
   "cell_type": "code",
   "execution_count": 304,
   "metadata": {},
   "outputs": [
    {
     "name": "stdout",
     "output_type": "stream",
     "text": [
      "Random forest: Accuracy on training Data: 0.793\n",
      "Random forest: Accuracy on test Data: 0.797\n"
     ]
    }
   ],
   "source": [
    "#computing the accuracy of the model performance\n",
    "acc_train = accuracy_score(y_train,y_pred_train)\n",
    "acc_test= accuracy_score(y_test,y_pred)\n",
    "\n",
    "print(\"Random forest: Accuracy on training Data: {:.3f}\".format(acc_train))\n",
    "print(\"Random forest: Accuracy on test Data: {:.3f}\".format(acc_test))"
   ]
  },
  {
   "cell_type": "code",
   "execution_count": 196,
   "metadata": {},
   "outputs": [
    {
     "data": {
      "image/png": "[encoded data removed]",
      "text/plain": [
       "<Figure size 648x504 with 1 Axes>"
      ]
     },
     "metadata": {},
     "output_type": "display_data"
    }
   ],
   "source": [
    "#checking the feature improtance in the model\n",
    "plt.figure(figsize=(9,7))\n",
    "n_features = X_train.shape[1]\n",
    "plt.barh(range(n_features), rf.feature_importances_, align='center')\n",
    "plt.yticks(np.arange(n_features), X_train.columns)\n",
    "plt.xlabel(\"Feature importance\")\n",
    "plt.ylabel(\"Feature\")\n",
    "plt.show()"
   ]
  },
  {
   "cell_type": "code",
   "execution_count": null,
   "metadata": {},
   "outputs": [],
   "source": []
  },
  {
   "cell_type": "markdown",
   "metadata": {},
   "source": [
    "# XGboost model"
   ]
  },
  {
   "cell_type": "code",
   "execution_count": 306,
   "metadata": {},
   "outputs": [
    {
     "data": {
      "text/plain": [
       "XGBClassifier(seed=1)"
      ]
     },
     "execution_count": 306,
     "metadata": {},
     "output_type": "execute_result"
    }
   ],
   "source": [
    "#XGBoost Classification model\n",
    "from xgboost import XGBClassifier\n",
    "\n",
    "# instantiate the model\n",
    "xgb = XGBClassifier(seed=1)\n",
    "#fit the model\n",
    "xgb.fit(X_train, y_train)"
   ]
  },
  {
   "cell_type": "code",
   "execution_count": 307,
   "metadata": {},
   "outputs": [],
   "source": [
    "#predicting the target value from the model for the samples\n",
    "y_test_xgb = xgb.predict(X_test)\n",
    "y_train_xgb = xgb.predict(X_train)"
   ]
  },
  {
   "cell_type": "code",
   "execution_count": 308,
   "metadata": {},
   "outputs": [
    {
     "name": "stdout",
     "output_type": "stream",
     "text": [
      "XGBoost: Accuracy on training Data: 0.827\n",
      "XGBoost : Accuracy on test Data: 0.832\n"
     ]
    }
   ],
   "source": [
    "#computing the accuracy of the model performance\n",
    "acc_train_xgb = accuracy_score(y_train,y_train_xgb)\n",
    "acc_test_xgb = accuracy_score(y_test,y_test_xgb)\n",
    "\n",
    "print(\"XGBoost: Accuracy on training Data: {:.3f}\".format(acc_train_xgb))\n",
    "print(\"XGBoost : Accuracy on test Data: {:.3f}\".format(acc_test_xgb))"
   ]
  },
  {
   "cell_type": "code",
   "execution_count": 309,
   "metadata": {},
   "outputs": [
    {
     "name": "stdout",
     "output_type": "stream",
     "text": [
      "precision_score:  0.9611111111111111\n",
      "recall score:  0.692\n"
     ]
    }
   ],
   "source": [
    "# Import the function to calculate precision score\n",
    "from sklearn.metrics import precision_score\n",
    "# Import the function to calculate recall score\n",
    "from sklearn.metrics import recall_score\n",
    "precision_score=precision_score(y_test, y_test_xgb)\n",
    "# Print precision score\n",
    "print('precision_score: ', precision_score)\n",
    "recall_score=recall_score(y_test, y_test_xgb)\n",
    "# Print recall score\n",
    "print('recall score: ', recall_score)\n"
   ]
  },
  {
   "cell_type": "markdown",
   "metadata": {},
   "source": [
    "# bagging classifier"
   ]
  },
  {
   "cell_type": "code",
   "execution_count": 310,
   "metadata": {},
   "outputs": [],
   "source": [
    "In [1]: from sklearn.ensemble import BaggingClassifier\n",
    "In [2]: from sklearn.tree import DecisionTreeClassifier"
   ]
  },
  {
   "cell_type": "code",
   "execution_count": 311,
   "metadata": {},
   "outputs": [
    {
     "name": "stdout",
     "output_type": "stream",
     "text": [
      "Accuracy of Bagging Classifier: 0.861\n"
     ]
    }
   ],
   "source": [
    "# Instantiate a classification-tree 'dt'\n",
    "In [7]: dt = DecisionTreeClassifier(\n",
    "                                    random_state=1)\n",
    "# Instantiate a BaggingClassifier 'bc'\n",
    "In [8]: bc = BaggingClassifier(base_estimator=dt, n_estimators=300, \n",
    "                               n_jobs=-1)\n",
    "# Fit 'bc' to the training set\n",
    "In [9]: bc.fit(X_train, y_train)\n",
    "\n",
    "# Predict test set labels\n",
    "In [10]: y_pred = bc.predict(X_test)\n",
    "\n",
    "# Evaluate and print test-set accuracy\n",
    "In [11]: accuracy = accuracy_score(y_test, y_pred)\n",
    "\n",
    "In [12]: print('Accuracy of Bagging Classifier: {:.3f}'.format(accuracy))"
   ]
  },
  {
   "cell_type": "code",
   "execution_count": 312,
   "metadata": {},
   "outputs": [],
   "source": [
    "y_train_bc = bc.predict(X_train)\n",
    "y_test_bc = bc.predict(X_test)"
   ]
  },
  {
   "cell_type": "code",
   "execution_count": 313,
   "metadata": {},
   "outputs": [
    {
     "name": "stdout",
     "output_type": "stream",
     "text": [
      "XGBoost: Accuracy on training Data: 0.867\n",
      "XGBoost : Accuracy on test Data: 0.861\n"
     ]
    }
   ],
   "source": [
    "#computing the accuracy of the model performance\n",
    "acc_train_bc = accuracy_score(y_train,y_train_bc)\n",
    "acc_test_bc = accuracy_score(y_test,y_test_bc)\n",
    "\n",
    "print(\"XGBoost: Accuracy on training Data: {:.3f}\".format(acc_train_bc))\n",
    "print(\"XGBoost : Accuracy on test Data: {:.3f}\".format(acc_test_bc))"
   ]
  },
  {
   "cell_type": "code",
   "execution_count": 314,
   "metadata": {},
   "outputs": [
    {
     "name": "stdout",
     "output_type": "stream",
     "text": [
      "precision_score:  0.9101251422070534\n",
      "recall score:  0.8\n"
     ]
    }
   ],
   "source": [
    "# Import the function to calculate precision score\n",
    "from sklearn.metrics import precision_score\n",
    "# Import the function to calculate recall score\n",
    "from sklearn.metrics import recall_score\n",
    "precision_score=precision_score(y_test, y_test_bc)\n",
    "# Print precision score\n",
    "print('precision_score: ', precision_score)\n",
    "recall_score=recall_score(y_test, y_test_bc)\n",
    "# Print recall score\n",
    "print('recall score: ', recall_score)"
   ]
  },
  {
   "cell_type": "markdown",
   "metadata": {},
   "source": [
    "You'll wrap a Recursive Feature Eliminator around a random forest model to remove features step by step. This method is more conservative compared to selecting features after applying a single importance threshold. Since dropping one feature can influence the relative importances of the others.\n",
    "\n",
    "You'll need these pre-loaded datasets: X, X_train, y_train.\n",
    "\n",
    "Functions and classes that have been pre-loaded for you are: RandomForestClassifier(), RFE(), train_test_split()."
   ]
  },
  {
   "cell_type": "code",
   "execution_count": 197,
   "metadata": {},
   "outputs": [],
   "source": [
    "from sklearn.feature_selection import RFE"
   ]
  },
  {
   "cell_type": "code",
   "execution_count": 279,
   "metadata": {},
   "outputs": [],
   "source": [
    "# Sepratating & assigning features and target columns to X & y\n",
    "y = df1['Label']\n",
    "X = df1.drop('Label',axis=1)"
   ]
  },
  {
   "cell_type": "code",
   "execution_count": 280,
   "metadata": {},
   "outputs": [
    {
     "data": {
      "text/plain": [
       "((8000, 16), (2000, 16))"
      ]
     },
     "execution_count": 280,
     "metadata": {},
     "output_type": "execute_result"
    }
   ],
   "source": [
    "# Splitting the dataset into train and test sets: 80-20 split\n",
    "from sklearn.model_selection import train_test_split\n",
    "\n",
    "X_train, X_test, y_train, y_test = train_test_split(X, y, \n",
    "                                                    test_size = 0.2, random_state = 12)\n",
    "X_train.shape, X_test.shape"
   ]
  },
  {
   "cell_type": "code",
   "execution_count": 247,
   "metadata": {},
   "outputs": [
    {
     "name": "stdout",
     "output_type": "stream",
     "text": [
      "Fitting estimator with 16 features.\n",
      "Fitting estimator with 15 features.\n",
      "Fitting estimator with 14 features.\n",
      "Fitting estimator with 13 features.\n",
      "Fitting estimator with 12 features.\n",
      "Fitting estimator with 11 features.\n",
      "Fitting estimator with 10 features.\n",
      "Fitting estimator with 9 features.\n",
      "Fitting estimator with 8 features.\n",
      "Fitting estimator with 7 features.\n",
      "Fitting estimator with 6 features.\n"
     ]
    },
    {
     "data": {
      "text/plain": [
       "RFE(estimator=RandomForestClassifier(max_depth=3), n_features_to_select=5,\n",
       "    verbose=1)"
      ]
     },
     "execution_count": 247,
     "metadata": {},
     "output_type": "execute_result"
    }
   ],
   "source": [
    "# Wrap the feature eliminator around the random forest model\n",
    "rfe = RFE(estimator=RandomForestClassifier(max_depth=3), n_features_to_select=5, verbose=1)\n",
    "# Fit the model to the training data\n",
    "rfe.fit(X_train, y_train)"
   ]
  },
  {
   "cell_type": "code",
   "execution_count": 248,
   "metadata": {},
   "outputs": [
    {
     "name": "stdout",
     "output_type": "stream",
     "text": [
      "Accuracy of rfe Classifier: 0.794\n"
     ]
    }
   ],
   "source": [
    "# Predict test set labels\n",
    "In [10]: y_pred = rfe.predict(X_test)\n",
    "\n",
    "# Evaluate and print test-set accuracy\n",
    "In [11]: accuracy = accuracy_score(y_test, y_pred)\n",
    "\n",
    "In [12]: print('Accuracy of rfe Classifier: {:.3f}'.format(accuracy))"
   ]
  },
  {
   "cell_type": "code",
   "execution_count": 249,
   "metadata": {},
   "outputs": [
    {
     "name": "stdout",
     "output_type": "stream",
     "text": [
      "Index(['Have_At', 'URL_Length', 'URL_Depth', 'Prefix/Suffix', 'Web_Traffic'], dtype='object')\n"
     ]
    }
   ],
   "source": [
    "# Create a mask using the support_ attribute of rfe\n",
    "mask = rfe.support_\n",
    "\n",
    "# Apply the mask to the feature dataset X and print the result\n",
    "reduced_X = X.loc[:, mask]\n",
    "print(reduced_X.columns)"
   ]
  },
  {
   "cell_type": "code",
   "execution_count": 250,
   "metadata": {},
   "outputs": [
    {
     "name": "stdout",
     "output_type": "stream",
     "text": [
      "{'Have_IP': 6, 'Have_At': 1, 'URL_Length': 1, 'URL_Depth': 1, 'Redirection': 11, 'https_Domain': 12, 'TinyURL': 5, 'Prefix/Suffix': 1, 'DNS_Record': 9, 'Web_Traffic': 1, 'Domain_Age': 3, 'Domain_End': 4, 'iFrame': 2, 'Mouse_Over': 8, 'Right_Click': 10, 'Web_Forwards': 7}\n"
     ]
    }
   ],
   "source": [
    "# Print the features and their ranking (high = dropped early on)\n",
    "print(dict(zip(X.columns, rfe.ranking_)))"
   ]
  },
  {
   "cell_type": "code",
   "execution_count": 251,
   "metadata": {},
   "outputs": [],
   "source": [
    "y_train_rfe = rfe.predict(X_train)\n",
    "y_test_rfe = rfe.predict(X_test)"
   ]
  },
  {
   "cell_type": "code",
   "execution_count": 253,
   "metadata": {},
   "outputs": [
    {
     "name": "stdout",
     "output_type": "stream",
     "text": [
      "rfeforest: Accuracy on training Data: 0.788\n",
      "rfeforest : Accuracy on test Data: 0.794\n"
     ]
    }
   ],
   "source": [
    "#computing the accuracy of the model performance\n",
    "acc_train_rfe = accuracy_score(y_train,y_train_rfe)\n",
    "acc_test_rfe = accuracy_score(y_test,y_test_rfe)\n",
    "\n",
    "print(\"rfeforest: Accuracy on training Data: {:.3f}\".format(acc_train_rfe))\n",
    "print(\"rfeforest : Accuracy on test Data: {:.3f}\".format(acc_test_rfe))"
   ]
  },
  {
   "cell_type": "code",
   "execution_count": null,
   "metadata": {},
   "outputs": [],
   "source": [
    "'Mouse_Over', 'Web_Forwards','DNS_Record'"
   ]
  },
  {
   "cell_type": "code",
   "execution_count": 264,
   "metadata": {},
   "outputs": [],
   "source": [
    "X=df1[['Have_At', 'URL_Length', 'URL_Depth', 'TinyURL', 'Prefix/Suffix',\n",
    "       'Mouse_Over', 'Web_Forwards','DNS_Record','DNS_Record', 'Web_Traffic', 'Domain_Age', 'Domain_End', 'iFrame',\n",
    "       ]]\n",
    "y=df1[['Label']]"
   ]
  },
  {
   "cell_type": "code",
   "execution_count": 316,
   "metadata": {},
   "outputs": [],
   "source": [
    "X=df1[['Have_At', 'URL_Length', 'URL_Depth', 'Prefix/Suffix',\n",
    "        'Web_Traffic', ]]\n",
    "y=df1[['Label']]"
   ]
  },
  {
   "cell_type": "code",
   "execution_count": 317,
   "metadata": {},
   "outputs": [],
   "source": [
    "# Split dataset into 70% train and 30% test\n",
    "In [5]: X_train, X_test, y_train, y_test = train_test_split(X,y, \n",
    "                                                      test_size=0.2, \n",
    "                                                      random_state=SEED)\n",
    "        "
   ]
  },
  {
   "cell_type": "code",
   "execution_count": null,
   "metadata": {},
   "outputs": [],
   "source": [
    "10 features..Test set accuracy of best model: 0.788,Test set accuracy of best model: 0.793\n",
    "5 features..Test set accuracy of best model: 0.754,Test set accuracy of best model: 0.797\n",
    "12 features..Test set accuracy of best model: 0.788,Test set accuracy of best model: 0.792\n",
    "all features..Test set accuracy of best model: 0.791,Test set accuracy of best model: 0.787"
   ]
  },
  {
   "cell_type": "markdown",
   "metadata": {},
   "source": [
    "# hyperparameteer tuning"
   ]
  },
  {
   "cell_type": "code",
   "execution_count": 270,
   "metadata": {},
   "outputs": [
    {
     "name": "stdout",
     "output_type": "stream",
     "text": [
      "{'ccp_alpha': 0.0, 'class_weight': None, 'criterion': 'gini', 'max_depth': None, 'max_features': None, 'max_leaf_nodes': None, 'min_impurity_decrease': 0.0, 'min_impurity_split': None, 'min_samples_leaf': 1, 'min_samples_split': 2, 'min_weight_fraction_leaf': 0.0, 'random_state': 1, 'splitter': 'best'}\n",
      "Best hyerparameters:\n",
      " {'max_depth': 7, 'max_features': 0.8, 'min_samples_leaf': 0.04}\n",
      "Best CV accuracy\n",
      "Test set accuracy of best model: 0.791\n"
     ]
    }
   ],
   "source": [
    "# Import DecisionTreeClassifier\n",
    "In [1]: from sklearn.tree import DecisionTreeClassifier\n",
    "\n",
    "# Set seed to 1 for reproducibility\n",
    "In [2]: SEED = 1\n",
    "\n",
    "# Instantiate a DecisionTreeClassifier 'dt'\n",
    "In [3]: dt = DecisionTreeClassifier(random_state=SEED)\n",
    "    \n",
    "# Print out 'dt's hyperparameters\n",
    "In [4]: print(dt.get_params())\n",
    "\n",
    "\n",
    "\n",
    "\n",
    "# Define the grid of hyperparameters 'params_dt'\n",
    "In [6]: params_dt = {\n",
    "                     'max_depth': [3, 4,5, 6,7,8,9],\n",
    "                     'min_samples_leaf': [0.04, 0.06, 0.08],\n",
    "                     'max_features': [0.2, 0.4,0.6, 0.8]\n",
    "                     }\n",
    "# Instantiate a 10-fold CV grid search object 'grid_dt'\n",
    "In [7]: grid_dt = GridSearchCV(estimator=dt, \n",
    "                               param_grid=params_dt,                       \n",
    "                               cv=10,\n",
    "                               scoring='accuracy',\n",
    "                               n_jobs=-1)\n",
    "\n",
    "# Fit 'grid_dt' to the training data\n",
    "In [8]: grid_dt.fit(X_train, y_train)\n",
    "    \n",
    "# Extract best hyperparameters from 'grid_dt'\n",
    "In [9]: best_hyperparams = grid_dt.best_params_\n",
    "\n",
    "In [10]: print('Best hyerparameters:\\n', best_hyperparams)\n",
    "\n",
    "\n",
    "# Extract best CV score from 'grid_dt'\n",
    "In [11]: best_CV_score = grid_dt.best_score_\n",
    "\n",
    "In [12]: print('Best CV accuracy'.format(best_CV_score))\n",
    "\n",
    "\n",
    "        \n",
    "# Extract best model from 'grid_dt'\n",
    "In [13]: best_model = grid_dt.best_estimator_\n",
    "# Evaluate test set accuracy\n",
    "In [14]: test_acc = best_model.score(X_test,y_test)\n",
    "\n",
    "# Print test set accuracy\n",
    "In [15]: print(\"Test set accuracy of best model: {:.3f}\".format(test_acc))\n",
    "\n",
    "\n",
    "    "
   ]
  },
  {
   "cell_type": "code",
   "execution_count": 271,
   "metadata": {},
   "outputs": [
    {
     "name": "stdout",
     "output_type": "stream",
     "text": [
      "{'bootstrap': True, 'ccp_alpha': 0.0, 'class_weight': None, 'criterion': 'gini', 'max_depth': None, 'max_features': 'auto', 'max_leaf_nodes': None, 'max_samples': None, 'min_impurity_decrease': 0.0, 'min_impurity_split': None, 'min_samples_leaf': 1, 'min_samples_split': 2, 'min_weight_fraction_leaf': 0.0, 'n_estimators': 100, 'n_jobs': None, 'oob_score': False, 'random_state': 1, 'verbose': 0, 'warm_start': False}\n",
      "Best hyerparameters:\n",
      " {'max_depth': 7, 'max_features': 0.4, 'min_samples_leaf': 0.04}\n",
      "Best CV accuracy\n",
      "Test set accuracy of best model: 0.787\n"
     ]
    }
   ],
   "source": [
    "# Import RandomClassifier\n",
    "In [1]: from sklearn.ensemble import RandomForestClassifier\n",
    "\n",
    "\n",
    "# Set seed to 1 for reproducibility\n",
    "In [2]: SEED = 1\n",
    "\n",
    "# Instantiate a RandomForestClassifier 'rfhyp'\n",
    "In [3]: rfhyp = RandomForestClassifier(random_state=SEED)\n",
    "    \n",
    "# Print out 'rfhyp's hyperparameters\n",
    "In [4]: print(rfhyp.get_params())\n",
    "\n",
    "\n",
    "\n",
    "\n",
    "# Define the grid of hyperparameters 'params_rfhyp'\n",
    "In [6]: params_rfhyp = {\n",
    "                     'max_depth': [3, 4,5, 6,7,9,10,11,12,13],\n",
    "                     'min_samples_leaf': [0.04, 0.06, 0.08],\n",
    "                     'max_features': [0.2, 0.4,0.6, 0.8]\n",
    "                     }\n",
    "# Instantiate a 10-fold CV grid search object 'grid_rfhyp'\n",
    "In [7]: grid_rfhyp = GridSearchCV(estimator=rfhyp, \n",
    "                               param_grid=params_rfhyp,                       \n",
    "                               cv=10,\n",
    "                               scoring='accuracy',\n",
    "                               n_jobs=-1)\n",
    "\n",
    "# Fit 'grid_rfhyp' to the training data\n",
    "In [8]: grid_rfhyp.fit(X_train, y_train)\n",
    "    \n",
    "# Extract best hyperparameters from 'grid_rfhyp'\n",
    "In [9]: best_hyperparams = grid_rfhyp.best_params_\n",
    "\n",
    "In [10]: print('Best hyerparameters:\\n', best_hyperparams)\n",
    "\n",
    "\n",
    "\n",
    "\n",
    "        \n",
    "# Extract best model from 'grid_dt'\n",
    "In [13]: best_model = grid_rfhyp.best_estimator_\n",
    "# Evaluate test set accuracy\n",
    "In [14]: test_acc = best_model.score(X_test,y_test)\n",
    "\n",
    "# Print test set accuracy\n",
    "In [15]: print(\"Test set accuracy of best model: {:.3f}\".format(test_acc))\n",
    "\n"
   ]
  },
  {
   "cell_type": "code",
   "execution_count": 318,
   "metadata": {},
   "outputs": [
    {
     "name": "stdout",
     "output_type": "stream",
     "text": [
      "{'base_score': 0.5, 'booster': 'gbtree', 'colsample_bylevel': 1, 'colsample_bytree': 1, 'gamma': 0, 'learning_rate': 0.1, 'max_delta_step': 0, 'max_depth': 3, 'min_child_weight': 1, 'missing': None, 'n_estimators': 100, 'n_jobs': 1, 'nthread': None, 'objective': 'binary:logistic', 'random_state': 1, 'reg_alpha': 0, 'reg_lambda': 1, 'scale_pos_weight': 1, 'seed': None, 'silent': True, 'subsample': 1}\n"
     ]
    },
    {
     "name": "stderr",
     "output_type": "stream",
     "text": [
      "C:\\Users\\DELL\\AppData\\Roaming\\Python\\Python36\\site-packages\\sklearn\\utils\\validation.py:63: DataConversionWarning: A column-vector y was passed when a 1d array was expected. Please change the shape of y to (n_samples, ), for example using ravel().\n",
      "  return f(*args, **kwargs)\n"
     ]
    },
    {
     "name": "stdout",
     "output_type": "stream",
     "text": [
      "Best hyerparameters:\n",
      " {'max_depth': 3, 'n_estimators': 200}\n",
      "Best CV accuracy\n",
      "Test set accuracy of best model: 0.817\n"
     ]
    }
   ],
   "source": [
    "#\n",
    "In [1]: #XGBoost Classification model\n",
    "from xgboost import XGBClassifier\n",
    "\n",
    "\n",
    "# Set seed to 1 for reproducibility\n",
    "In [2]: SEED = 1\n",
    "\n",
    "# Instantiate a RandomForestClassifier 'rfhyp'\n",
    "In [3]: rfhyp =XGBClassifier(random_state=SEED)\n",
    "    \n",
    "# Print out 'rfhyp's hyperparameters\n",
    "In [4]: print(rfhyp.get_params())\n",
    "\n",
    "\n",
    "\n",
    "\n",
    "# Define the grid of hyperparameters 'params_rfhyp'\n",
    "In [6]: params_rfhyp = {\n",
    "                     'max_depth': [3, 4,5, 6,7,9,10,11,12,13],\n",
    "                     'n_estimators': [100,200,400,600,800],\n",
    "\n",
    "                     }\n",
    "# Instantiate a 10-fold CV grid search object 'grid_rfhyp'\n",
    "In [7]: grid_rfhyp = GridSearchCV(estimator=rfhyp, \n",
    "                               param_grid=params_rfhyp,                       \n",
    "                               cv=10,\n",
    "                               scoring='accuracy',\n",
    "                               n_jobs=-1)\n",
    "\n",
    "# Fit 'grid_rfhyp' to the training data\n",
    "In [8]: grid_rfhyp.fit(X_train, y_train)\n",
    "    \n",
    "# Extract best hyperparameters from 'grid_rfhyp'\n",
    "In [9]: best_hyperparams = grid_rfhyp.best_params_\n",
    "\n",
    "In [10]: print('Best hyerparameters:\\n', best_hyperparams)\n",
    "\n",
    "\n",
    "\n",
    "\n",
    "\n",
    "        \n",
    "# Extract best model from 'grid_rfhyp'\n",
    "In [13]: best_model = grid_rfhyp.best_estimator_\n",
    "# Evaluate test set accuracy\n",
    "In [14]: test_acc = best_model.score(X_test,y_test)\n",
    "\n",
    "# Print test set accuracy\n",
    "In [15]: print(\"Test set accuracy of best model: {:.3f}\".format(test_acc))\n",
    "\n"
   ]
  },
  {
   "cell_type": "code",
   "execution_count": null,
   "metadata": {},
   "outputs": [],
   "source": [
    "#xbgclassifier\n",
    "Test set accuracy of best model: 0.866... all features used"
   ]
  },
  {
   "cell_type": "code",
   "execution_count": null,
   "metadata": {},
   "outputs": [],
   "source": [
    "#test set accuracy of decision tree and random forest classifier checked with experiments\n",
    "10 features..Test set accuracy of best model: 0.788,Test set accuracy of best model: 0.793\n",
    "5 features..Test set accuracy of best model: 0.754,Test set accuracy of best model: 0.797\n",
    "12 features..Test set accuracy of best model: 0.788,Test set accuracy of best model: 0.792\n",
    "all features..Test set accuracy of best model: 0.791,Test set accuracy of best model: 0.787"
   ]
  }
 ],
 "metadata": {
  "kernelspec": {
   "display_name": "Python 3",
   "language": "python",
   "name": "python3"
  },
  "language_info": {
   "codemirror_mode": {
    "name": "ipython",
    "version": 3
   },
   "file_extension": ".py",
   "mimetype": "text/x-python",
   "name": "python",
   "nbconvert_exporter": "python",
   "pygments_lexer": "ipython3",
   "version": "3.6.4"
  }
 },
 "nbformat": 4,
 "nbformat_minor": 2
}
